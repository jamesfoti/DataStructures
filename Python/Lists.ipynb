{
 "cells": [
  {
   "cell_type": "markdown",
   "metadata": {},
   "source": [
    "# Lists\n",
    "**Python does not have a default array** type like other languages such as C++, Java, etc. Python uses a similar data structure called a **list**. If we wanted to use an array data structure, then we would have to import the **array module** or the **numpy package**.\n",
    "\n",
    "For more detailed info about lists: https://docs.python.org/3/tutorial/datastructures.html"
   ]
  },
  {
   "cell_type": "markdown",
   "metadata": {},
   "source": [
    "**Declaring our lists:**"
   ]
  },
  {
   "cell_type": "code",
   "execution_count": 1,
   "metadata": {},
   "outputs": [],
   "source": [
    "# List as an Array:\n",
    "numbers = [1, 2, 3, 4, 5, 6] # List of integers.\n",
    "names = [\"Bob\", \"Joe\", \"Kevin\", \"James\"] # List of strings.\n",
    "empty_list = [] # Empty list.\n",
    "list_compr = [i for  i in range(20, 30)] # List constructed using list comprehension."
   ]
  },
  {
   "cell_type": "markdown",
   "metadata": {},
   "source": [
    "Display that we are using a data structure of type 'list' using the **type()** method:"
   ]
  },
  {
   "cell_type": "code",
   "execution_count": 2,
   "metadata": {},
   "outputs": [
    {
     "name": "stdout",
     "output_type": "stream",
     "text": [
      "<class 'list'>\n",
      "<class 'list'>\n",
      "<class 'list'>\n",
      "<class 'list'>\n"
     ]
    }
   ],
   "source": [
    "print(type(numbers))\n",
    "print(type(names))\n",
    "print(type(empty_list))\n",
    "print(type(list_compr))"
   ]
  },
  {
   "cell_type": "markdown",
   "metadata": {},
   "source": [
    "**Printing our lists:**"
   ]
  },
  {
   "cell_type": "code",
   "execution_count": 3,
   "metadata": {},
   "outputs": [
    {
     "name": "stdout",
     "output_type": "stream",
     "text": [
      "Numbers List:  [1, 2, 3, 4, 5, 6]\n",
      "Names List:  ['Bob', 'Joe', 'Kevin', 'James']\n",
      "Empty List:  []\n",
      "List Built using List Comprehension [20, 21, 22, 23, 24, 25, 26, 27, 28, 29]\n"
     ]
    }
   ],
   "source": [
    "# In python, we can easily print the contents of a list:\n",
    "print(\"Numbers List: \", numbers)\n",
    "print(\"Names List: \", names)\n",
    "print(\"Empty List: \", empty_list)\n",
    "print(\"List Built using List Comprehension\", list_compr)"
   ]
  },
  {
   "cell_type": "markdown",
   "metadata": {},
   "source": [
    "**Note:** you can pretty much create a list of any data type. Your list construction does not always have to be a string or a integer. It could be a list of objects, list of characters, boolean values, bytes, etc.\n",
    "\n",
    "For more info on built-in data types: https://www.w3schools.com/python/python_datatypes.asp"
   ]
  },
  {
   "cell_type": "markdown",
   "metadata": {},
   "source": [
    "## Accessing the Elements of a List"
   ]
  },
  {
   "cell_type": "markdown",
   "metadata": {},
   "source": [
    "**1st element:**"
   ]
  },
  {
   "cell_type": "code",
   "execution_count": 4,
   "metadata": {},
   "outputs": [
    {
     "name": "stdout",
     "output_type": "stream",
     "text": [
      "First Number:  1\n",
      "First Name:  Bob\n"
     ]
    }
   ],
   "source": [
    "# First element (STARTING INDEX IS ALWAYS = 0):\n",
    "number1 = numbers[0]\n",
    "name1 = names[0]\n",
    "print(\"First Number: \", number1)\n",
    "print(\"First Name: \", names[0])"
   ]
  },
  {
   "cell_type": "markdown",
   "metadata": {},
   "source": [
    "**2nd element:**"
   ]
  },
  {
   "cell_type": "code",
   "execution_count": 5,
   "metadata": {},
   "outputs": [
    {
     "name": "stdout",
     "output_type": "stream",
     "text": [
      "Second Number:  2\n",
      "Second Name:  Joe\n"
     ]
    }
   ],
   "source": [
    "# Second element\n",
    "number2 = numbers[1]\n",
    "name2 = names[1]\n",
    "print(\"Second Number: \" , number2)\n",
    "print(\"Second Name: \", name2)"
   ]
  },
  {
   "cell_type": "markdown",
   "metadata": {},
   "source": [
    "**nth element:**"
   ]
  },
  {
   "cell_type": "code",
   "execution_count": 6,
   "metadata": {},
   "outputs": [
    {
     "name": "stdout",
     "output_type": "stream",
     "text": [
      "nth Number:  4\n",
      "nth Name:  James\n"
     ]
    }
   ],
   "source": [
    "# nth element:\n",
    "n = 3\n",
    "nth_number = numbers[n]\n",
    "nth_name = names[n]\n",
    "print(\"nth Number: \" , nth_number)\n",
    "print(\"nth Name: \", nth_name)"
   ]
  },
  {
   "cell_type": "markdown",
   "metadata": {},
   "source": [
    "## The Len (Number of Elements) of a List\n",
    "We can extract the number of elements of a list using the **len()** method. People will refer **number of elements** to **size** or **length** of a list or an array."
   ]
  },
  {
   "cell_type": "markdown",
   "metadata": {},
   "source": [
    "\"number of elements\" = \"size\" = \"length\""
   ]
  },
  {
   "cell_type": "code",
   "execution_count": 7,
   "metadata": {},
   "outputs": [
    {
     "name": "stdout",
     "output_type": "stream",
     "text": [
      "Number of Numbers:  6\n",
      "Number of Names:  4\n"
     ]
    }
   ],
   "source": [
    "# Len (Number of Elements) of an Array:\n",
    "size_of_numbers = len(numbers)\n",
    "size_of_names = len(names)\n",
    "print(\"Number of Numbers: \", size_of_numbers)\n",
    "print(\"Number of Names: \", size_of_names)"
   ]
  },
  {
   "cell_type": "markdown",
   "metadata": {},
   "source": [
    "## Iterating through a List of Numbers\n",
    "Here are three very common ways of iterating through a list of numbers. I am sure there are other ways to iterate over a list but these are the most commone ways that I can think of. **REMEMBER: in 99% of programming the starting index = 0.**"
   ]
  },
  {
   "cell_type": "markdown",
   "metadata": {},
   "source": [
    "We can use **range(start, stop, step)** to loop over a list. If the **start** index is not inputted, then the start index will be 0 by default. If **step** is not inputted, then it will be 1 by default. Also, **stop** is NOT included in the looping range. **stop-1** IS included in the looping range."
   ]
  },
  {
   "cell_type": "code",
   "execution_count": 8,
   "metadata": {},
   "outputs": [
    {
     "name": "stdout",
     "output_type": "stream",
     "text": [
      "1 2 3 4 5 6 "
     ]
    }
   ],
   "source": [
    "# Range = [0, n) where the start point is 0 by default:\n",
    "for index in range(len(numbers)):\n",
    "    print(numbers[index], end=' ')"
   ]
  },
  {
   "cell_type": "code",
   "execution_count": 9,
   "metadata": {},
   "outputs": [
    {
     "name": "stdout",
     "output_type": "stream",
     "text": [
      "1 2 3 4 5 6 "
     ]
    }
   ],
   "source": [
    "# We can specify the range -> [0, len(list) ):\n",
    "for index in range(0, len(numbers)):\n",
    "    print(numbers[index], end=' ')"
   ]
  },
  {
   "cell_type": "code",
   "execution_count": 10,
   "metadata": {},
   "outputs": [
    {
     "name": "stdout",
     "output_type": "stream",
     "text": [
      "3 4 "
     ]
    }
   ],
   "source": [
    "# Range = [2, 4)\n",
    "for index in range(2, 4):\n",
    "    print(numbers[index], end=' ')"
   ]
  },
  {
   "cell_type": "code",
   "execution_count": 11,
   "metadata": {},
   "outputs": [
    {
     "name": "stdout",
     "output_type": "stream",
     "text": [
      "1 2 3 4 5 6 "
     ]
    }
   ],
   "source": [
    "# More simplified option:\n",
    "for num in numbers:\n",
    "    print(num, end=' ')"
   ]
  },
  {
   "cell_type": "markdown",
   "metadata": {},
   "source": [
    "## Iterating through a List of Strings\n",
    "Here are three very common ways of iterating through a list of strings. I am sure there are other ways to iterate over a list but these are the most commone ways that I can think of. **REMEMBER: in 99% of programming the starting index = 0.**"
   ]
  },
  {
   "cell_type": "markdown",
   "metadata": {},
   "source": [
    "We can use **range(start, stop, step)** to loop over a list. If the **start** index is not inputted, then the start index will be 0 by default. If **step** is not inputted, then it will be 1 by default. Also, **stop** is NOT included in the looping range. **stop-1** IS included in the looping range."
   ]
  },
  {
   "cell_type": "code",
   "execution_count": 12,
   "metadata": {},
   "outputs": [
    {
     "name": "stdout",
     "output_type": "stream",
     "text": [
      "Bob Joe Kevin James "
     ]
    }
   ],
   "source": [
    "# Range = [0, n) where the start point is 0 by default:\n",
    "for index in range(len(names)):\n",
    "    print(names[index], end=' ')"
   ]
  },
  {
   "cell_type": "code",
   "execution_count": 13,
   "metadata": {},
   "outputs": [
    {
     "name": "stdout",
     "output_type": "stream",
     "text": [
      "Bob Joe Kevin James "
     ]
    }
   ],
   "source": [
    "# We can specify the range -> [0, len(list)):\n",
    "for index in range(0, len(names)):\n",
    "    print(names[index], end=' ')"
   ]
  },
  {
   "cell_type": "code",
   "execution_count": 14,
   "metadata": {},
   "outputs": [
    {
     "name": "stdout",
     "output_type": "stream",
     "text": [
      "Joe Kevin "
     ]
    }
   ],
   "source": [
    "# Range = [1, 4)\n",
    "for index in range(1, 3):\n",
    "    print(names[index], end=' ')"
   ]
  },
  {
   "cell_type": "code",
   "execution_count": 15,
   "metadata": {},
   "outputs": [
    {
     "name": "stdout",
     "output_type": "stream",
     "text": [
      "Bob Joe Kevin James "
     ]
    }
   ],
   "source": [
    "# More simplified option:\n",
    "for name in names:\n",
    "    print(name, end = ' ')"
   ]
  },
  {
   "cell_type": "markdown",
   "metadata": {},
   "source": [
    "## Slicing (Another Option Instead of Iterating)\n",
    "Python is very well-known for its **slicing** feature. In python, instead of lopping over a list to access a subset of elements, you can slice the list. This will work for data type of **array** and **numpy array** as well."
   ]
  },
  {
   "cell_type": "code",
   "execution_count": 16,
   "metadata": {},
   "outputs": [
    {
     "name": "stdout",
     "output_type": "stream",
     "text": [
      "Original Numbers List:  [1, 2, 3, 4, 5, 6]\n",
      "Sliced Numbers List:  [1, 2, 3, 4]\n"
     ]
    }
   ],
   "source": [
    "# Sliced numbers list:\n",
    "sliced_numbers = numbers[0:4]\n",
    "print(\"Original Numbers List: \", numbers)\n",
    "print(\"Sliced Numbers List: \", sliced_numbers)"
   ]
  },
  {
   "cell_type": "code",
   "execution_count": 17,
   "metadata": {},
   "outputs": [
    {
     "name": "stdout",
     "output_type": "stream",
     "text": [
      "Original Names List:  ['Bob', 'Joe', 'Kevin', 'James']\n",
      "Sliced Names List:  ['Joe', 'Kevin']\n"
     ]
    }
   ],
   "source": [
    "# Sliced names list:\n",
    "sliced_names = names[1:3]\n",
    "print(\"Original Names List: \", names)\n",
    "print(\"Sliced Names List: \", sliced_names)"
   ]
  },
  {
   "cell_type": "markdown",
   "metadata": {},
   "source": [
    "## Adding Elements to a List\n",
    "In python, we can easily add elements to a list by using the **append()** method. This method adds an element to the end of the list. In many other languages, this is not possible to do with traditional arrays."
   ]
  },
  {
   "cell_type": "code",
   "execution_count": 18,
   "metadata": {},
   "outputs": [
    {
     "name": "stdout",
     "output_type": "stream",
     "text": [
      "Numbers List:  [1, 2, 3, 4, 5, 6]\n",
      "Names List:  ['Bob', 'Joe', 'Kevin', 'James']\n"
     ]
    }
   ],
   "source": [
    "# Print our current arrays:\n",
    "print(\"Numbers List: \", numbers)\n",
    "print(\"Names List: \", names)"
   ]
  },
  {
   "cell_type": "code",
   "execution_count": 19,
   "metadata": {},
   "outputs": [],
   "source": [
    "# Add two new values: \n",
    "numbers.append(50)\n",
    "numbers.append(100)"
   ]
  },
  {
   "cell_type": "code",
   "execution_count": 20,
   "metadata": {},
   "outputs": [],
   "source": [
    "# Add two new strings:\n",
    "names.append(\"STEVE\")\n",
    "names.append(\"AsDfg\")"
   ]
  },
  {
   "cell_type": "code",
   "execution_count": 21,
   "metadata": {},
   "outputs": [
    {
     "name": "stdout",
     "output_type": "stream",
     "text": [
      "Numbers List:  [1, 2, 3, 4, 5, 6, 50, 100]\n",
      "Names List:  ['Bob', 'Joe', 'Kevin', 'James', 'STEVE', 'AsDfg']\n"
     ]
    }
   ],
   "source": [
    "# Our Lists w/ New Values:\n",
    "print(\"Numbers List: \", numbers)\n",
    "print(\"Names List: \", names)"
   ]
  },
  {
   "cell_type": "markdown",
   "metadata": {},
   "source": [
    "## Removing Elements from a List\n",
    "In python, we can easyily remove elements by using the **pop(index)** and **remove(element)** methods."
   ]
  },
  {
   "cell_type": "markdown",
   "metadata": {},
   "source": [
    "Using **pop(index)**:"
   ]
  },
  {
   "cell_type": "code",
   "execution_count": 22,
   "metadata": {},
   "outputs": [
    {
     "name": "stdout",
     "output_type": "stream",
     "text": [
      "Numbers List:  [1, 2, 3, 4, 5, 6, 50, 100]\n",
      "Names List:  ['Bob', 'Joe', 'Kevin', 'James', 'STEVE', 'AsDfg']\n"
     ]
    }
   ],
   "source": [
    "# Our lists before popping:\n",
    "print(\"Numbers List: \", numbers)\n",
    "print(\"Names List: \", names)"
   ]
  },
  {
   "cell_type": "code",
   "execution_count": 23,
   "metadata": {},
   "outputs": [
    {
     "data": {
      "text/plain": [
       "'Bob'"
      ]
     },
     "execution_count": 23,
     "metadata": {},
     "output_type": "execute_result"
    }
   ],
   "source": [
    "# Using pop(i):\n",
    "numbers.pop(0) # Remove the first element.\n",
    "names.pop(0) # Remove the first element."
   ]
  },
  {
   "cell_type": "code",
   "execution_count": 24,
   "metadata": {},
   "outputs": [
    {
     "name": "stdout",
     "output_type": "stream",
     "text": [
      "Numbers List:  [2, 3, 4, 5, 6, 50, 100]\n",
      "Names List:  ['Joe', 'Kevin', 'James', 'STEVE', 'AsDfg']\n"
     ]
    }
   ],
   "source": [
    "# Our lists after popping\n",
    "print(\"Numbers List: \", numbers)\n",
    "print(\"Names List: \", names)"
   ]
  },
  {
   "cell_type": "markdown",
   "metadata": {},
   "source": [
    "Using **remove(element)**:"
   ]
  },
  {
   "cell_type": "code",
   "execution_count": 25,
   "metadata": {},
   "outputs": [
    {
     "name": "stdout",
     "output_type": "stream",
     "text": [
      "Numbers List:  [2, 3, 4, 5, 6, 50, 100]\n",
      "Names List:  ['Joe', 'Kevin', 'James', 'STEVE', 'AsDfg']\n"
     ]
    }
   ],
   "source": [
    "# Our lists before removing:\n",
    "print(\"Numbers List: \", numbers)\n",
    "print(\"Names List: \", names)"
   ]
  },
  {
   "cell_type": "code",
   "execution_count": 26,
   "metadata": {},
   "outputs": [],
   "source": [
    "# Using remove(element):\n",
    "numbers.remove(6)\n",
    "names.remove(\"James\")"
   ]
  },
  {
   "cell_type": "code",
   "execution_count": 27,
   "metadata": {},
   "outputs": [
    {
     "name": "stdout",
     "output_type": "stream",
     "text": [
      "Numbers List:  [2, 3, 4, 5, 50, 100]\n",
      "Names List:  ['Joe', 'Kevin', 'STEVE', 'AsDfg']\n"
     ]
    }
   ],
   "source": [
    "# Our lists before popping:\n",
    "print(\"Numbers List: \", numbers)\n",
    "print(\"Names List: \", names)"
   ]
  },
  {
   "cell_type": "markdown",
   "metadata": {},
   "source": [
    "## Other Useful Methods\n",
    "For more info, go to https://docs.python.org/3/tutorial/datastructures.html. Many of these definitions down below are copied word for word from the official python documentation."
   ]
  },
  {
   "cell_type": "markdown",
   "metadata": {},
   "source": [
    "**list.count(x)** returns the number of times 'x' appears in the list"
   ]
  },
  {
   "cell_type": "code",
   "execution_count": 28,
   "metadata": {},
   "outputs": [
    {
     "name": "stdout",
     "output_type": "stream",
     "text": [
      "3\n"
     ]
    }
   ],
   "source": [
    "# Count how many times a number appears in this list:\n",
    "arr1 = [1, 2, 3, 4, 4, 4, 6, 7, 8]\n",
    "print(arr1.count(4))"
   ]
  },
  {
   "cell_type": "code",
   "execution_count": 29,
   "metadata": {},
   "outputs": [
    {
     "name": "stdout",
     "output_type": "stream",
     "text": [
      "2\n"
     ]
    }
   ],
   "source": [
    "# Count how many times a string appears in tis list:\n",
    "str_arr1 = [\"BOB\", \"BOB\", \"bob\", \"jim\", \"mike\"]\n",
    "print(str_arr1.count(\"BOB\"))"
   ]
  },
  {
   "cell_type": "markdown",
   "metadata": {},
   "source": [
    "**list.sort(key=None, reverse=False)** Sorts the items of the list in place (the arguments can be used for sort customization, see sorted() for their explanation)."
   ]
  },
  {
   "cell_type": "code",
   "execution_count": 30,
   "metadata": {},
   "outputs": [
    {
     "name": "stdout",
     "output_type": "stream",
     "text": [
      "[5, 6, 7, 8, 9, 10]\n"
     ]
    }
   ],
   "source": [
    "# Sorting a list:\n",
    "arr2 = [10, 9, 8, 7, 6, 5]\n",
    "arr2.sort()\n",
    "print(arr2)"
   ]
  },
  {
   "cell_type": "markdown",
   "metadata": {},
   "source": [
    "**list.reverse()** Reverses the elements of the list in place."
   ]
  },
  {
   "cell_type": "code",
   "execution_count": 31,
   "metadata": {},
   "outputs": [
    {
     "name": "stdout",
     "output_type": "stream",
     "text": [
      "[1, 56, 34, 7, 5, 3, 98, 99, 100]\n"
     ]
    }
   ],
   "source": [
    "arr3 = [100, 99, 98, 3, 5, 7, 34, 56, 1]\n",
    "arr3.reverse()\n",
    "print(arr3)"
   ]
  },
  {
   "cell_type": "code",
   "execution_count": 32,
   "metadata": {},
   "outputs": [
    {
     "name": "stdout",
     "output_type": "stream",
     "text": [
      "['5th', '4th', '3rd', '2nd', '1st']\n"
     ]
    }
   ],
   "source": [
    "str_arr4 = [\"1st\", \"2nd\", \"3rd\", \"4th\", \"5th\"]\n",
    "str_arr4.reverse()\n",
    "print(str_arr4)"
   ]
  },
  {
   "cell_type": "code",
   "execution_count": null,
   "metadata": {},
   "outputs": [],
   "source": []
  }
 ],
 "metadata": {
  "kernelspec": {
   "display_name": "Python 3",
   "language": "python",
   "name": "python3"
  },
  "language_info": {
   "codemirror_mode": {
    "name": "ipython",
    "version": 3
   },
   "file_extension": ".py",
   "mimetype": "text/x-python",
   "name": "python",
   "nbconvert_exporter": "python",
   "pygments_lexer": "ipython3",
   "version": "3.8.3"
  }
 },
 "nbformat": 4,
 "nbformat_minor": 4
}
