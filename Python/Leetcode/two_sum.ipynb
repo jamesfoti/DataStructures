{
 "cells": [
  {
   "cell_type": "markdown",
   "metadata": {},
   "source": [
    "**1. Two Sum**\n",
    "\n",
    "Given an array of integers nums and an integer target, return indices of the two numbers such that they add up to target.\n",
    "\n",
    "You may assume that each input would have exactly one solution, and you may not use the same element twice.\n",
    "\n",
    "You can return the answer in any order."
   ]
  },
  {
   "cell_type": "code",
   "execution_count": 1,
   "metadata": {},
   "outputs": [],
   "source": [
    "# Because nums[0] + nums[1] == 9, we return [0, 1].\n",
    "nums = [2,7,11,15]\n",
    "target = 9"
   ]
  },
  {
   "cell_type": "code",
   "execution_count": 2,
   "metadata": {},
   "outputs": [],
   "source": [
    "class Solution:\n",
    "    def brute_force_two_sum(self, nums, target):\n",
    "        for i in range(len(nums)):\n",
    "            for j in range(i+1, len(nums)):\n",
    "                if nums[i] + nums[j] == target:\n",
    "                    return [i, j]\n",
    "\n",
    "        return [-1, -1]\n",
    "    \n",
    "    def efficient_two_sum(self, nums, target):\n",
    "        # target - nums[i] = the other number, j,  we are looking for so that nums[i] + [j] = target\n",
    "        hashmap = {} # key = num, value = index\n",
    "        \n",
    "        for i in range(len(nums)):\n",
    "            diff = target - nums[i]\n",
    "            \n",
    "            if diff in hashmap:\n",
    "                return [hashmap[diff], i]\n",
    "            else:\n",
    "                hashmap[nums[i]] = i\n",
    "                \n",
    "        return [-1, -1]"
   ]
  },
  {
   "cell_type": "code",
   "execution_count": 3,
   "metadata": {},
   "outputs": [],
   "source": [
    "solution = Solution()"
   ]
  },
  {
   "cell_type": "markdown",
   "metadata": {},
   "source": [
    "**Brute Force Solution:**\n",
    "\n",
    "Time Complexity:\n",
    "\n",
    "- Worst Case: O(n*(n-j)), where j is the second counter -> polynomial time\n",
    "\n",
    "- Best Case: O(1 * 2) = O(2) -> linear time\n",
    "\n",
    "Space Complexity:\n",
    "- Every Case: O(2) since were are allocating a list of size = 2 to be returned."
   ]
  },
  {
   "cell_type": "code",
   "execution_count": 4,
   "metadata": {},
   "outputs": [
    {
     "name": "stdout",
     "output_type": "stream",
     "text": [
      "[0, 1]\n"
     ]
    }
   ],
   "source": [
    "indicies = solution.brute_force_two_sum(nums, target)\n",
    "print(indicies)"
   ]
  },
  {
   "cell_type": "markdown",
   "metadata": {},
   "source": [
    "**Efficient Solution:**\n",
    "\n",
    "Time Complexity:\n",
    "\n",
    "- Worst Case: O(n) since we could end up itertaing over the entire list.\n",
    "- Best Case: O(2) incase the first two elements could be the ones we are looking for.\n",
    "\n",
    "Space Complexity:\n",
    "- Worst Case: O(n) since we could end up adding every element of the list to the new dictionary.\n",
    "- Best Case: O(1) incase the first two elements are the ones we are looking for and we only add the first element to the dict{} but not the second."
   ]
  },
  {
   "cell_type": "code",
   "execution_count": 5,
   "metadata": {},
   "outputs": [
    {
     "name": "stdout",
     "output_type": "stream",
     "text": [
      "[0, 1]\n"
     ]
    }
   ],
   "source": [
    "indicies = solution.efficient_two_sum(nums, target)\n",
    "print(indicies)"
   ]
  },
  {
   "cell_type": "code",
   "execution_count": null,
   "metadata": {},
   "outputs": [],
   "source": []
  }
 ],
 "metadata": {
  "kernelspec": {
   "display_name": "Python 3",
   "language": "python",
   "name": "python3"
  },
  "language_info": {
   "codemirror_mode": {
    "name": "ipython",
    "version": 3
   },
   "file_extension": ".py",
   "mimetype": "text/x-python",
   "name": "python",
   "nbconvert_exporter": "python",
   "pygments_lexer": "ipython3",
   "version": "3.8.3"
  }
 },
 "nbformat": 4,
 "nbformat_minor": 4
}
