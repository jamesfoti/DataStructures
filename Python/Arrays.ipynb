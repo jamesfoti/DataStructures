{
 "cells": [
  {
   "cell_type": "markdown",
   "metadata": {},
   "source": [
    "# List (as an Array)\n",
    "Python does not have a default array type like other languages such as C++, Java, etc. Python uses a similar data structure called a **list**. If we wanted to use an array data structure, then we would have to import the **array module** or the **numpy package**."
   ]
  },
  {
   "cell_type": "code",
   "execution_count": 16,
   "metadata": {},
   "outputs": [
    {
     "name": "stdout",
     "output_type": "stream",
     "text": [
      "Numbers List:  [1, 2, 3, 4, 5, 6]\n",
      "Names List:  ['Bob', 'Joe', 'Kevin', 'James']\n"
     ]
    }
   ],
   "source": [
    "# List as an Array:\n",
    "numbers = [1, 2, 3, 4, 5, 6] # List of integers.\n",
    "names = [\"Bob\", \"Joe\", \"Kevin\", \"James\"] # List of strings.\n",
    "\n",
    "# In python, we can easily print the contents of the list:\n",
    "print(\"Numbers List: \", numbers)\n",
    "print(\"Names List: \", names)"
   ]
  },
  {
   "cell_type": "code",
   "execution_count": 21,
   "metadata": {},
   "outputs": [],
   "source": [
    "# 2d list of integers:\n",
    "two_dimension_int_list = [[10, 11, 12],\n",
    "                     [13, 14, 15],\n",
    "                     [16, 17, 18]]"
   ]
  },
  {
   "cell_type": "code",
   "execution_count": 22,
   "metadata": {},
   "outputs": [],
   "source": [
    "# 2d list of strings:\n",
    "two_dimension_string_list = [[\"hello\", \"world\", \"this\"],\n",
    "                            [\"is\", \"a\", \"2d\"],\n",
    "                            [\"string\", \"list\", \"!!\"]]"
   ]
  },
  {
   "cell_type": "code",
   "execution_count": 24,
   "metadata": {},
   "outputs": [
    {
     "name": "stdout",
     "output_type": "stream",
     "text": [
      "2d List of Integers:  [[10, 11, 12], [13, 14, 15], [16, 17, 18]]\n",
      "2d List of Strings:  [['hello', 'world', 'this'], ['is', 'a', '2d'], ['string', 'list', '!!']]\n"
     ]
    }
   ],
   "source": [
    "# Print our 2d lists:\n",
    "print(\"2d List of Integers: \", two_dimension_int_arr)\n",
    "print(\"2d List of Strings: \", two_dimension_string_list)"
   ]
  },
  {
   "cell_type": "markdown",
   "metadata": {},
   "source": [
    "**Note:** you can pretty much create a list of any data type. Your list construction does not always have to be a string or a integer. It could be a list of objects, list of characters, etc."
   ]
  },
  {
   "cell_type": "markdown",
   "metadata": {},
   "source": [
    "## Accessing the Elements of a List"
   ]
  },
  {
   "cell_type": "code",
   "execution_count": 2,
   "metadata": {},
   "outputs": [
    {
     "name": "stdout",
     "output_type": "stream",
     "text": [
      "First Number:  1\n",
      "First Name:  Bob\n"
     ]
    }
   ],
   "source": [
    "# Accessing list elements (STARTING INDEX IS ALWAYS = 0)\n",
    "number1 = numbers[0]\n",
    "name1 = names[0]\n",
    "print(\"First Number: \", number1)\n",
    "print(\"First Name: \", names[0])"
   ]
  },
  {
   "cell_type": "code",
   "execution_count": 3,
   "metadata": {},
   "outputs": [
    {
     "name": "stdout",
     "output_type": "stream",
     "text": [
      "Second Number:  2\n",
      "Second Name:  Kevin\n"
     ]
    }
   ],
   "source": [
    "# Second element\n",
    "number2 = numbers[1]\n",
    "name2 = names[2]\n",
    "print(\"Second Number: \" , number2)\n",
    "print(\"Second Name: \", name2)"
   ]
  },
  {
   "cell_type": "markdown",
   "metadata": {},
   "source": [
    "## The Len (Number of Elements) of a List"
   ]
  },
  {
   "cell_type": "code",
   "execution_count": 4,
   "metadata": {},
   "outputs": [
    {
     "name": "stdout",
     "output_type": "stream",
     "text": [
      "Number of Numbers:  6\n",
      "Number of Names:  4\n"
     ]
    }
   ],
   "source": [
    "# Len (Number of Elements) of an Array:\n",
    "size_of_numbers = len(numbers)\n",
    "size_of_names = len(names)\n",
    "print(\"Number of Numbers: \", size_of_numbers)\n",
    "print(\"Number of Names: \", size_of_names)"
   ]
  },
  {
   "cell_type": "markdown",
   "metadata": {},
   "source": [
    "## Iterating through a List of Numbers\n",
    "Here are three very common ways of iterating through a list of numbers. I am sure there are other ways to iterate over a list but these are the most commone ways that I can think of. **REMEMBER: in 99% of programming the starting index = 0.**"
   ]
  },
  {
   "cell_type": "code",
   "execution_count": 5,
   "metadata": {},
   "outputs": [
    {
     "name": "stdout",
     "output_type": "stream",
     "text": [
      "1 2 3 4 5 6 "
     ]
    }
   ],
   "source": [
    "# Range start point =  0 by default. The end point is NOT INCLUDED -> [a, b) \n",
    "for index in range(len(numbers)):\n",
    "    print(numbers[index], end=' ')"
   ]
  },
  {
   "cell_type": "code",
   "execution_count": 6,
   "metadata": {},
   "outputs": [
    {
     "name": "stdout",
     "output_type": "stream",
     "text": [
      "1 2 3 4 5 6 \n",
      "3 4 "
     ]
    }
   ],
   "source": [
    "# We can specify the range of iteration:\n",
    "for index in range(0, len(numbers)):\n",
    "    print(numbers[index], end=' ')\n",
    "    \n",
    "print()\n",
    "    \n",
    "for index in range(2, 4):\n",
    "    print(numbers[index], end=' ')"
   ]
  },
  {
   "cell_type": "code",
   "execution_count": 7,
   "metadata": {},
   "outputs": [
    {
     "name": "stdout",
     "output_type": "stream",
     "text": [
      "1 2 3 4 5 6 "
     ]
    }
   ],
   "source": [
    "# More simplified option:\n",
    "for num in numbers:\n",
    "    print(num, end=' ')"
   ]
  },
  {
   "cell_type": "markdown",
   "metadata": {},
   "source": [
    "## Iterating through a List of Strings\n",
    "Here are three very common ways of iterating through a list of strings. I am sure there are other ways to iterate over a list but these are the most commone ways that I can think of. **REMEMBER: in 99% of programming the starting index = 0.**"
   ]
  },
  {
   "cell_type": "code",
   "execution_count": 8,
   "metadata": {},
   "outputs": [
    {
     "name": "stdout",
     "output_type": "stream",
     "text": [
      "Bob Joe Kevin James "
     ]
    }
   ],
   "source": [
    "# Range start point =  0 by default. The end point is NOT INCLUDED -> [a, b) .\n",
    "for index in range(len(names)):\n",
    "    print(names[index], end=' ')"
   ]
  },
  {
   "cell_type": "code",
   "execution_count": 9,
   "metadata": {},
   "outputs": [
    {
     "name": "stdout",
     "output_type": "stream",
     "text": [
      "Bob Joe Kevin James \n",
      "Joe Kevin "
     ]
    }
   ],
   "source": [
    "# We can specify the starting point of the range:\n",
    "for index in range(0, len(names)):\n",
    "    print(names[index], end=' ')\n",
    "    \n",
    "print()\n",
    "\n",
    "for index in range(1, 3):\n",
    "    print(names[index], end=' ')"
   ]
  },
  {
   "cell_type": "markdown",
   "metadata": {},
   "source": [
    "## Slicing (Another Option Instead of Iterating)\n",
    "Python is very well-known for its **slicing** feature. In python, instead of lopping over a list to access a subset of elements, you can slice the list. This will work for data type of **array** and **numpy array** as well."
   ]
  },
  {
   "cell_type": "code",
   "execution_count": null,
   "metadata": {},
   "outputs": [],
   "source": []
  },
  {
   "cell_type": "markdown",
   "metadata": {},
   "source": [
    "## Adding Elements to a List\n",
    "In python, we can easily add elements to a list by using the **append()** method. This method adds an element to the end of the list. In many other languages, this is not possible to do with traditional arrays."
   ]
  },
  {
   "cell_type": "code",
   "execution_count": 10,
   "metadata": {},
   "outputs": [
    {
     "name": "stdout",
     "output_type": "stream",
     "text": [
      "Numbers List:  [1, 2, 3, 4, 5, 6]\n",
      "Names List:  ['Bob', 'Joe', 'Kevin', 'James']\n"
     ]
    }
   ],
   "source": [
    "# Print our current arrays:\n",
    "print(\"Numbers List: \", numbers)\n",
    "print(\"Names List: \", names)"
   ]
  },
  {
   "cell_type": "code",
   "execution_count": 11,
   "metadata": {},
   "outputs": [],
   "source": [
    "# Add two new values: \n",
    "numbers.append(50)\n",
    "numbers.append(100)"
   ]
  },
  {
   "cell_type": "code",
   "execution_count": 12,
   "metadata": {},
   "outputs": [],
   "source": [
    "# Add two new strings:\n",
    "names.append(\"STEVE\")\n",
    "names.append(\"AsDfg\")"
   ]
  },
  {
   "cell_type": "code",
   "execution_count": 13,
   "metadata": {},
   "outputs": [
    {
     "name": "stdout",
     "output_type": "stream",
     "text": [
      "Numbers List:  [1, 2, 3, 4, 5, 6, 50, 100]\n",
      "Names List:  ['Bob', 'Joe', 'Kevin', 'James', 'STEVE', 'AsDfg']\n"
     ]
    }
   ],
   "source": [
    "# Our Lists w/ New Values:\n",
    "print(\"Numbers List: \", numbers)\n",
    "print(\"Names List: \", names)"
   ]
  },
  {
   "cell_type": "markdown",
   "metadata": {},
   "source": [
    "## Removing Elements from a List\n",
    "In python, we can easyily remove elements by using the **pop()** and **remove()** methods. Again, in many other languages, this is not possible or at least not as easy as python with traditional arrays."
   ]
  },
  {
   "cell_type": "code",
   "execution_count": null,
   "metadata": {},
   "outputs": [],
   "source": []
  }
 ],
 "metadata": {
  "kernelspec": {
   "display_name": "Python 3",
   "language": "python",
   "name": "python3"
  },
  "language_info": {
   "codemirror_mode": {
    "name": "ipython",
    "version": 3
   },
   "file_extension": ".py",
   "mimetype": "text/x-python",
   "name": "python",
   "nbconvert_exporter": "python",
   "pygments_lexer": "ipython3",
   "version": "3.8.3"
  }
 },
 "nbformat": 4,
 "nbformat_minor": 4
}
